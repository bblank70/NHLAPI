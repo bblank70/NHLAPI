{
 "cells": [
  {
   "cell_type": "markdown",
   "metadata": {},
   "source": [
    "Interfacing with https://api-web.nhle.com/"
   ]
  },
  {
   "cell_type": "code",
   "execution_count": 2,
   "metadata": {},
   "outputs": [],
   "source": [
    "import requests\n",
    "import pandas as pd\n",
    "\n",
    "gamesurl ='https://api-web.nhle.com/'\n",
    "playersurl = 'https://api.nhle.com/stats/rest/en/players'"
   ]
  },
  {
   "cell_type": "code",
   "execution_count": 6,
   "metadata": {},
   "outputs": [],
   "source": [
    "def GetGames(url):\n",
    "    gamesresp = requests.get(url)\n",
    "        if gamesresp.status_code == 200:\n",
    "        games = gamesresp.json()\n",
    "# If the data is nested, you might need to normalize it\n",
    "        games = pd.json_normalize(games)\n",
    "        print(games)\n",
    "    else:\n",
    "        print(f\"Error: {gamesresp.status_code}\")\n",
    "    return games"
   ]
  }
 ],
 "metadata": {
  "kernelspec": {
   "display_name": "Python 3",
   "language": "python",
   "name": "python3"
  },
  "language_info": {
   "codemirror_mode": {
    "name": "ipython",
    "version": 3
   },
   "file_extension": ".py",
   "mimetype": "text/x-python",
   "name": "python",
   "nbconvert_exporter": "python",
   "pygments_lexer": "ipython3",
   "version": "3.10.11"
  }
 },
 "nbformat": 4,
 "nbformat_minor": 2
}
